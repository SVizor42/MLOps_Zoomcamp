{
 "cells": [
  {
   "cell_type": "code",
   "execution_count": 1,
   "id": "9db80d2f-31e4-4e59-a196-abf7ce75e6e3",
   "metadata": {},
   "outputs": [],
   "source": [
    "import pandas as pd"
   ]
  },
  {
   "cell_type": "code",
   "execution_count": 2,
   "id": "5153f52f-a912-4f58-8869-686b46974c46",
   "metadata": {},
   "outputs": [],
   "source": [
    "url = 'http://localhost:4566'\n",
    "filename = 's3://nyc-duration/out/2021-01.parquet'"
   ]
  },
  {
   "cell_type": "code",
   "execution_count": 3,
   "id": "1aecf322-7214-4f71-8065-e0d613f8594b",
   "metadata": {},
   "outputs": [],
   "source": [
    "options = {\n",
    "    'client_kwargs': {\n",
    "        'endpoint_url': url\n",
    "    }\n",
    "}\n",
    "\n",
    "df = pd.read_parquet(filename, storage_options=options)"
   ]
  },
  {
   "cell_type": "code",
   "execution_count": 4,
   "id": "0d951dc3-8726-40bf-b4d4-bc9b0b791d68",
   "metadata": {},
   "outputs": [
    {
     "data": {
      "text/html": [
       "<div>\n",
       "<style scoped>\n",
       "    .dataframe tbody tr th:only-of-type {\n",
       "        vertical-align: middle;\n",
       "    }\n",
       "\n",
       "    .dataframe tbody tr th {\n",
       "        vertical-align: top;\n",
       "    }\n",
       "\n",
       "    .dataframe thead th {\n",
       "        text-align: right;\n",
       "    }\n",
       "</style>\n",
       "<table border=\"1\" class=\"dataframe\">\n",
       "  <thead>\n",
       "    <tr style=\"text-align: right;\">\n",
       "      <th></th>\n",
       "      <th>ride_id</th>\n",
       "      <th>predicted_duration</th>\n",
       "    </tr>\n",
       "  </thead>\n",
       "  <tbody>\n",
       "    <tr>\n",
       "      <th>0</th>\n",
       "      <td>2021/01_0</td>\n",
       "      <td>23.052085</td>\n",
       "    </tr>\n",
       "    <tr>\n",
       "      <th>1</th>\n",
       "      <td>2021/01_1</td>\n",
       "      <td>46.236612</td>\n",
       "    </tr>\n",
       "  </tbody>\n",
       "</table>\n",
       "</div>"
      ],
      "text/plain": [
       "     ride_id  predicted_duration\n",
       "0  2021/01_0           23.052085\n",
       "1  2021/01_1           46.236612"
      ]
     },
     "execution_count": 4,
     "metadata": {},
     "output_type": "execute_result"
    }
   ],
   "source": [
    "df"
   ]
  },
  {
   "cell_type": "code",
   "execution_count": 5,
   "id": "188f82c0-30cf-40fe-9db6-e0da942c3778",
   "metadata": {},
   "outputs": [
    {
     "data": {
      "text/plain": [
       "69.28869683240714"
      ]
     },
     "execution_count": 5,
     "metadata": {},
     "output_type": "execute_result"
    }
   ],
   "source": [
    "df['predicted_duration'].sum()"
   ]
  }
 ],
 "metadata": {
  "kernelspec": {
   "display_name": "Python 3 (ipykernel)",
   "language": "python",
   "name": "python3"
  },
  "language_info": {
   "codemirror_mode": {
    "name": "ipython",
    "version": 3
   },
   "file_extension": ".py",
   "mimetype": "text/x-python",
   "name": "python",
   "nbconvert_exporter": "python",
   "pygments_lexer": "ipython3",
   "version": "3.9.7"
  }
 },
 "nbformat": 4,
 "nbformat_minor": 5
}
