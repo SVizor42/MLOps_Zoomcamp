{
 "cells": [
  {
   "cell_type": "code",
   "execution_count": 32,
   "id": "2c51efaa",
   "metadata": {},
   "outputs": [
    {
     "name": "stdout",
     "output_type": "stream",
     "text": [
      "scikit-learn @ file:///D:/bld/scikit-learn_1652976858669/work\n"
     ]
    }
   ],
   "source": [
    "!pip freeze | grep scikit-learn"
   ]
  },
  {
   "cell_type": "code",
   "execution_count": 33,
   "id": "0ef880a0",
   "metadata": {},
   "outputs": [],
   "source": [
    "import os\n",
    "import pickle\n",
    "import pandas as pd"
   ]
  },
  {
   "cell_type": "markdown",
   "id": "4d63de49-4fac-4cb2-b649-e2340ce75714",
   "metadata": {},
   "source": [
    "## Q1. Notebook"
   ]
  },
  {
   "cell_type": "code",
   "execution_count": 34,
   "id": "7408a585-5830-4fad-a68a-74c00bcf0bf3",
   "metadata": {},
   "outputs": [],
   "source": [
    "year = 2021\n",
    "month = 2\n",
    "taxi_type = 'fhv'"
   ]
  },
  {
   "cell_type": "code",
   "execution_count": 35,
   "id": "7836ccfd",
   "metadata": {},
   "outputs": [
    {
     "name": "stderr",
     "output_type": "stream",
     "text": [
      "C:\\Users\\Timur.Kamaliev\\Anaconda3\\envs\\mlops-zoomcamp\\lib\\site-packages\\sklearn\\base.py:329: UserWarning: Trying to unpickle estimator DictVectorizer from version 1.0.2 when using version 1.1.1. This might lead to breaking code or invalid results. Use at your own risk. For more info please refer to:\n",
      "https://scikit-learn.org/stable/model_persistence.html#security-maintainability-limitations\n",
      "  warnings.warn(\n",
      "C:\\Users\\Timur.Kamaliev\\Anaconda3\\envs\\mlops-zoomcamp\\lib\\site-packages\\sklearn\\base.py:329: UserWarning: Trying to unpickle estimator LinearRegression from version 1.0.2 when using version 1.1.1. This might lead to breaking code or invalid results. Use at your own risk. For more info please refer to:\n",
      "https://scikit-learn.org/stable/model_persistence.html#security-maintainability-limitations\n",
      "  warnings.warn(\n"
     ]
    }
   ],
   "source": [
    "with open('model.bin', 'rb') as f_in:\n",
    "    dv, lr = pickle.load(f_in)"
   ]
  },
  {
   "cell_type": "code",
   "execution_count": 36,
   "id": "41c08294",
   "metadata": {},
   "outputs": [],
   "source": [
    "categorical = ['PUlocationID', 'DOlocationID']\n",
    "\n",
    "def read_data(filename):\n",
    "    df = pd.read_parquet(filename)\n",
    "    \n",
    "    df['duration'] = df.dropOff_datetime - df.pickup_datetime\n",
    "    df['duration'] = df.duration.dt.total_seconds() / 60\n",
    "\n",
    "    df = df[(df.duration >= 1) & (df.duration <= 60)].copy()\n",
    "\n",
    "    df[categorical] = df[categorical].fillna(-1).astype('int').astype('str')\n",
    "    \n",
    "    return df"
   ]
  },
  {
   "cell_type": "code",
   "execution_count": 37,
   "id": "4854399a",
   "metadata": {},
   "outputs": [],
   "source": [
    "df = read_data(f'https://nyc-tlc.s3.amazonaws.com/trip+data/{taxi_type}_tripdata_{year:04d}-{month:02d}.parquet')"
   ]
  },
  {
   "cell_type": "code",
   "execution_count": 38,
   "id": "669fda0a",
   "metadata": {},
   "outputs": [],
   "source": [
    "dicts = df[categorical].to_dict(orient='records')\n",
    "X_val = dv.transform(dicts)\n",
    "y_pred = lr.predict(X_val)"
   ]
  },
  {
   "cell_type": "code",
   "execution_count": 39,
   "id": "95805eac-68bf-4183-94bd-821c62e805a7",
   "metadata": {},
   "outputs": [
    {
     "name": "stdout",
     "output_type": "stream",
     "text": [
      "Mean predicted duration: 16.192\n"
     ]
    }
   ],
   "source": [
    "print(f'Mean predicted duration: {y_pred.mean():.3f}')"
   ]
  },
  {
   "cell_type": "markdown",
   "id": "9d66d5be-5f18-44b6-a8e4-f4830d198f39",
   "metadata": {},
   "source": [
    "## Q2. Preparing the output"
   ]
  },
  {
   "cell_type": "code",
   "execution_count": 40,
   "id": "3a541627-927d-4eec-8ff6-da0d0c6fd4b8",
   "metadata": {},
   "outputs": [],
   "source": [
    "df['ride_id'] = f'{year:04d}/{month:02d}_' + df.index.astype('str')"
   ]
  },
  {
   "cell_type": "code",
   "execution_count": 41,
   "id": "a5f9a2ac-b65a-41d2-8927-da428058395c",
   "metadata": {},
   "outputs": [],
   "source": [
    "df['prediction'] = y_pred"
   ]
  },
  {
   "cell_type": "code",
   "execution_count": 42,
   "id": "6dd1d33f-74f1-49c8-8d6a-03b410e3e4fe",
   "metadata": {},
   "outputs": [],
   "source": [
    "df_result = df[['ride_id', 'prediction']]"
   ]
  },
  {
   "cell_type": "code",
   "execution_count": 43,
   "id": "74beeb4a-502b-42e8-b70b-3b5ea05166cd",
   "metadata": {},
   "outputs": [
    {
     "data": {
      "text/html": [
       "<div>\n",
       "<style scoped>\n",
       "    .dataframe tbody tr th:only-of-type {\n",
       "        vertical-align: middle;\n",
       "    }\n",
       "\n",
       "    .dataframe tbody tr th {\n",
       "        vertical-align: top;\n",
       "    }\n",
       "\n",
       "    .dataframe thead th {\n",
       "        text-align: right;\n",
       "    }\n",
       "</style>\n",
       "<table border=\"1\" class=\"dataframe\">\n",
       "  <thead>\n",
       "    <tr style=\"text-align: right;\">\n",
       "      <th></th>\n",
       "      <th>ride_id</th>\n",
       "      <th>prediction</th>\n",
       "    </tr>\n",
       "  </thead>\n",
       "  <tbody>\n",
       "    <tr>\n",
       "      <th>1</th>\n",
       "      <td>2021/02_1</td>\n",
       "      <td>14.539865</td>\n",
       "    </tr>\n",
       "    <tr>\n",
       "      <th>2</th>\n",
       "      <td>2021/02_2</td>\n",
       "      <td>13.740422</td>\n",
       "    </tr>\n",
       "    <tr>\n",
       "      <th>3</th>\n",
       "      <td>2021/02_3</td>\n",
       "      <td>15.593339</td>\n",
       "    </tr>\n",
       "    <tr>\n",
       "      <th>4</th>\n",
       "      <td>2021/02_4</td>\n",
       "      <td>15.188118</td>\n",
       "    </tr>\n",
       "    <tr>\n",
       "      <th>5</th>\n",
       "      <td>2021/02_5</td>\n",
       "      <td>13.817206</td>\n",
       "    </tr>\n",
       "    <tr>\n",
       "      <th>6</th>\n",
       "      <td>2021/02_6</td>\n",
       "      <td>15.757813</td>\n",
       "    </tr>\n",
       "    <tr>\n",
       "      <th>7</th>\n",
       "      <td>2021/02_7</td>\n",
       "      <td>14.105704</td>\n",
       "    </tr>\n",
       "    <tr>\n",
       "      <th>9</th>\n",
       "      <td>2021/02_9</td>\n",
       "      <td>12.910885</td>\n",
       "    </tr>\n",
       "    <tr>\n",
       "      <th>10</th>\n",
       "      <td>2021/02_10</td>\n",
       "      <td>23.465230</td>\n",
       "    </tr>\n",
       "    <tr>\n",
       "      <th>11</th>\n",
       "      <td>2021/02_11</td>\n",
       "      <td>15.105853</td>\n",
       "    </tr>\n",
       "  </tbody>\n",
       "</table>\n",
       "</div>"
      ],
      "text/plain": [
       "       ride_id  prediction\n",
       "1    2021/02_1   14.539865\n",
       "2    2021/02_2   13.740422\n",
       "3    2021/02_3   15.593339\n",
       "4    2021/02_4   15.188118\n",
       "5    2021/02_5   13.817206\n",
       "6    2021/02_6   15.757813\n",
       "7    2021/02_7   14.105704\n",
       "9    2021/02_9   12.910885\n",
       "10  2021/02_10   23.465230\n",
       "11  2021/02_11   15.105853"
      ]
     },
     "execution_count": 43,
     "metadata": {},
     "output_type": "execute_result"
    }
   ],
   "source": [
    "df_result.head(10)"
   ]
  },
  {
   "cell_type": "code",
   "execution_count": 44,
   "id": "cb27d283-b3f3-43b1-a364-1034fb57903d",
   "metadata": {},
   "outputs": [],
   "source": [
    "os.makedirs(f'data/{taxi_type}', exist_ok=True)"
   ]
  },
  {
   "cell_type": "code",
   "execution_count": 45,
   "id": "17c04cb2-a587-48e0-a17c-be63ff9e5d43",
   "metadata": {},
   "outputs": [],
   "source": [
    "output_file = f'data/{taxi_type}/{year:04d}_{month:02d}_result.parquet'"
   ]
  },
  {
   "cell_type": "code",
   "execution_count": 46,
   "id": "164de187-11ba-4bed-b237-39516b707be4",
   "metadata": {},
   "outputs": [],
   "source": [
    "df_result.to_parquet(\n",
    "    output_file,\n",
    "    engine='pyarrow',\n",
    "    compression=None,\n",
    "    index=False\n",
    ")"
   ]
  },
  {
   "cell_type": "code",
   "execution_count": 48,
   "id": "747a384e-5b60-4009-b840-ec334ff9bb21",
   "metadata": {},
   "outputs": [
    {
     "name": "stdout",
     "output_type": "stream",
     "text": [
      "total 19252\n",
      "drwxr-xr-x 1 Timur.Kamaliev 1049089        0 РёСЋРЅ 27 00:22 .\n",
      "drwxr-xr-x 1 Timur.Kamaliev 1049089        0 РёСЋРЅ 27 00:22 ..\n",
      "-rw-r--r-- 1 Timur.Kamaliev 1049089 19711435 РёСЋРЅ 27 00:22 2021_02_result.parquet\n"
     ]
    }
   ],
   "source": [
    "!ls data/$taxi_type -la"
   ]
  },
  {
   "cell_type": "markdown",
   "id": "9299b543-fe62-46ac-b469-c7ce59b50c4f",
   "metadata": {},
   "source": [
    "## Q3. Creating the scoring script"
   ]
  },
  {
   "cell_type": "code",
   "execution_count": 49,
   "id": "b8f0f14c-c06e-4f9e-8c3a-7a2cc72dcf1e",
   "metadata": {},
   "outputs": [
    {
     "name": "stderr",
     "output_type": "stream",
     "text": [
      "[NbConvertApp] Converting notebook starter.ipynb to script\n",
      "[NbConvertApp] Writing 1650 bytes to starter.py\n"
     ]
    }
   ],
   "source": [
    "!jupyter nbconvert --to script starter.ipynb"
   ]
  }
 ],
 "metadata": {
  "kernelspec": {
   "display_name": "Python 3 (ipykernel)",
   "language": "python",
   "name": "python3"
  },
  "language_info": {
   "codemirror_mode": {
    "name": "ipython",
    "version": 3
   },
   "file_extension": ".py",
   "mimetype": "text/x-python",
   "name": "python",
   "nbconvert_exporter": "python",
   "pygments_lexer": "ipython3",
   "version": "3.9.7"
  }
 },
 "nbformat": 4,
 "nbformat_minor": 5
}
